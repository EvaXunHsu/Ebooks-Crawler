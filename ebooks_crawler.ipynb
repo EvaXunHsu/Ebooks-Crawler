{
 "cells": [
  {
   "cell_type": "markdown",
   "metadata": {},
   "source": [
    "#### Write a function to parse the HTML response, return the data we want(name, introduction, ...etc).\n"
   ]
  },
  {
   "cell_type": "code",
   "execution_count": 33,
   "metadata": {},
   "outputs": [],
   "source": [
    "import requests\n",
    "from bs4 import BeautifulSoup as bs\n",
    "\n",
    "def process_document(document):\n",
    "    \n",
    "    nodes = document.select('dl#plist')\n",
    "    data = list()\n",
    "\n",
    "    for li in nodes:\n",
    "        # get link\n",
    "        li_link = li.select_one('a')['href']\n",
    "\n",
    "        # get book name\n",
    "        li_name = li.select_one('a').get_text()\n",
    "\n",
    "        # get introduction\n",
    "        li_introduction = li.select_one('.des').string.split()\n",
    "\n",
    "        # request for document\n",
    "        li_res = requests.get(li_link)\n",
    "        li_doc = bs(li_res.text, 'lxml')        \n",
    "        \n",
    "        tmp_url = li_doc.select_one('div.down_2 > a')['href']\n",
    "        tmp_url_res = requests.get(tmp_url)\n",
    "        tmp_url_doc = bs(tmp_url_res.text, 'lxml')\n",
    "\n",
    "        # get download url\n",
    "        li_download = \" \"\n",
    "        for ele in tmp_url_doc.select('span.downfile'):\n",
    "            li_download = li_download + ele.select_one('a')['href'] + \" , \"\n",
    "\n",
    "        # append new row\n",
    "        data.append({\n",
    "            'name' : li_name,\n",
    "            'introduction': li_introduction,\n",
    "            'download_link' : li_download,\n",
    "        })\n",
    "    return data"
   ]
  },
  {
   "cell_type": "markdown",
   "metadata": {},
   "source": [
    "#### Observe that we can get e-books of different pagination with the link format except page is 1:http://www.zxcs.me/sort/28/page/2\n",
    "#### We need define the page range we want.\n",
    "#### Crawl over the news on the site, store the data in variable \"all_data\" .\n"
   ]
  },
  {
   "cell_type": "code",
   "execution_count": 34,
   "metadata": {},
   "outputs": [
    {
     "name": "stdout",
     "output_type": "stream",
     "text": [
      "start crawling page 1\n",
      "start crawling page 2\n",
      "start crawling page 3\n",
      "start crawling page 4\n",
      "start crawling page 5\n",
      "start crawling page 6\n",
      "start crawling page 7\n",
      "start crawling page 8\n",
      "start crawling page 9\n",
      "start crawling page 10\n",
      "start crawling page 11\n",
      "start crawling page 12\n",
      "start crawling page 13\n",
      "start crawling page 14\n",
      "start crawling page 15\n",
      "start crawling page 16\n",
      "start crawling page 17\n",
      "start crawling page 18\n",
      "start crawling page 19\n",
      "start crawling page 20\n",
      "start crawling page 21\n",
      "start crawling page 22\n",
      "start crawling page 23\n",
      "start crawling page 24\n",
      "start crawling page 25\n",
      "start crawling page 26\n",
      "start crawling page 27\n",
      "start crawling page 28\n",
      "start crawling page 29\n"
     ]
    }
   ],
   "source": [
    "start_page = 1\n",
    "stop_page = 30\n",
    "all_data = list()\n",
    "\n",
    "for page in range(start_page, stop_page):\n",
    "    print('start crawling page ' + str(page))\n",
    "    if page == 1:\n",
    "        res = requests.get('http://www.zxcs.me/sort/28')\n",
    "    else :\n",
    "        res = requests.get('http://www.zxcs.me/sort/28/page/' + str(page))\n",
    "    doc = bs(res.text, 'lxml')\n",
    "    data = process_document(doc)\n",
    "    all_data += data\n",
    "\n",
    "\n"
   ]
  },
  {
   "cell_type": "markdown",
   "metadata": {},
   "source": [
    "#### Check the result"
   ]
  },
  {
   "cell_type": "code",
   "execution_count": 35,
   "metadata": {},
   "outputs": [
    {
     "data": {
      "text/plain": [
       "[{'name': '《天下豪商》（校对版全本）作者：大罗罗',\n",
       "  'introduction': ['【TXT大小】：9.28',\n",
       "   'MB',\n",
       "   '【内容简介】：',\n",
       "   '大宋元符年间，画师武浩来到了繁华似锦赵氏天下。',\n",
       "   '走在宛如清明上河图般繁华的汴梁街头，武浩却想到了29年后，女真铁骑，席卷南下，将这烈火烹油一般的盛世景象，全都毁了个干干净净。',\n",
       "   '可是一介布衣，纵然知晓大厦将倾，又哪来的挽天之力？',\n",
       "   '只想着在大难之中独善其身的武浩，却在汴梁街...'],\n",
       "  'download_link': ' http://d1.zxcs6.xyz/20/txhs,dl.rar , http://d2.zxcs6.xyz/20/txhs,dl.rar , '},\n",
       " {'name': '《马前卒》（校对版全本）作者：枪手1号',\n",
       "  'introduction': ['【TXT大小】：12.9',\n",
       "   'MB',\n",
       "   '【内容简介】：',\n",
       "   '不停地战斗，不停的杀敌，秦风是国家的悍将，军队的马前卒，永远冲锋在第一线，用赫赫战功书写着自己光荣的履历，但大变陡至，昔日的功臣，转眼之间却成了国家的罪人，人人得而诛之的叛徒，兄弟血洒疆场，部下反目成仇，情人苦恋虐心，一时之间，四面楚歌。',\n",
       "   '这位昔日的国之悍将身份反转，开始了为自己而...'],\n",
       "  'download_link': ' http://d1.zxcs6.xyz/20/mqz,qs1hao.rar , http://d2.zxcs6.xyz/20/mqz,qs1hao.rar , '},\n",
       " {'name': '《红楼之庶子风流》（校对版全本）作者：屋外风吹凉',\n",
       "  'introduction': ['【TXT大小】：5.63',\n",
       "   'MB',\n",
       "   '【内容简介】：',\n",
       "   '外科医生贾琮过劳而卒，魂穿荣府。',\n",
       "   '谱一曲红楼幽梦，唱一世庶子风流。',\n",
       "   '正版订阅书源，收集于网络！',\n",
       "   '文本由河洛校对！'],\n",
       "  'download_link': ' http://d1.zxcs6.xyz/20/hlzszfl,wwfl.rar , http://d2.zxcs6.xyz/20/hlzszfl,wwfl.rar , '},\n",
       " {'name': '《宰执天下》（校对版全本）作者：cuslaa',\n",
       "  'introduction': ['【TXT大小】：15.0',\n",
       "   'MB',\n",
       "   '【内容简介】：',\n",
       "   '宰者宰相，执者执政。',\n",
       "   '上辅君王，下安黎庶，群臣避道，礼绝百僚，是为宰相。',\n",
       "   '佐政事，定国策，副署诏令，为宰相之亚，是为执政。',\n",
       "   '因为一场空难，贺方一迈千年，回到了传说中“积贫积弱”同时又“富庶远超汉唐”的北宋。一个贫寒的家庭，一场因贪婪带来的灾难，为了能保住自己小小的幸福，...'],\n",
       "  'download_link': ' http://d1.zxcs6.xyz/20/zzx,cuslaa.rar , http://d2.zxcs6.xyz/20/zzx,cuslaa.rar , '},\n",
       " {'name': '《崇祯聊天群》（校对版全本）作者：叫天',\n",
       "  'introduction': ['【TXT大小】：6.89',\n",
       "   'MB',\n",
       "   '【内容简介】：',\n",
       "   '崇祯皇帝被忽悠上吊丢江山，但是，这本书，皇帝虽在深宫，却有一个和外面人聊天的群，这还能被忽悠么？',\n",
       "   '哎呀不好，皇帝还是穿越的，这挂开太大，地球都颤抖了！',\n",
       "   '完了，大明一个不小心，日不落了！',\n",
       "   '正版订阅书源，收集于网络！',\n",
       "   '文本由田胥校对！'],\n",
       "  'download_link': ' http://d1.zxcs6.xyz/20/czltq,jt.rar , http://d2.zxcs6.xyz/20/czltq,jt.rar , '}]"
      ]
     },
     "execution_count": 35,
     "metadata": {},
     "output_type": "execute_result"
    }
   ],
   "source": [
    "all_data[0:5]"
   ]
  },
  {
   "cell_type": "markdown",
   "metadata": {},
   "source": [
    "###### Save as pkl file"
   ]
  },
  {
   "cell_type": "code",
   "execution_count": 36,
   "metadata": {},
   "outputs": [],
   "source": [
    "import pickle\n",
    "\n",
    "with open('zxcs_crawler.pkl', 'wb') as f:\n",
    "    pickle.dump(all_data, f)"
   ]
  },
  {
   "cell_type": "markdown",
   "metadata": {},
   "source": [
    "##### Turn it into pandas dataframe"
   ]
  },
  {
   "cell_type": "code",
   "execution_count": 37,
   "metadata": {},
   "outputs": [
    {
     "data": {
      "text/html": [
       "<div>\n",
       "<style scoped>\n",
       "    .dataframe tbody tr th:only-of-type {\n",
       "        vertical-align: middle;\n",
       "    }\n",
       "\n",
       "    .dataframe tbody tr th {\n",
       "        vertical-align: top;\n",
       "    }\n",
       "\n",
       "    .dataframe thead th {\n",
       "        text-align: right;\n",
       "    }\n",
       "</style>\n",
       "<table border=\"1\" class=\"dataframe\">\n",
       "  <thead>\n",
       "    <tr style=\"text-align: right;\">\n",
       "      <th></th>\n",
       "      <th>name</th>\n",
       "      <th>introduction</th>\n",
       "      <th>download_link</th>\n",
       "    </tr>\n",
       "  </thead>\n",
       "  <tbody>\n",
       "    <tr>\n",
       "      <th>0</th>\n",
       "      <td>《天下豪商》（校对版全本）作者：大罗罗</td>\n",
       "      <td>[【TXT大小】：9.28, MB, 【内容简介】：, 大宋元符年间，画师武浩来到了繁华似锦...</td>\n",
       "      <td>http://d1.zxcs6.xyz/20/txhs,dl.rar , http://d...</td>\n",
       "    </tr>\n",
       "    <tr>\n",
       "      <th>1</th>\n",
       "      <td>《马前卒》（校对版全本）作者：枪手1号</td>\n",
       "      <td>[【TXT大小】：12.9, MB, 【内容简介】：, 不停地战斗，不停的杀敌，秦风是国家的...</td>\n",
       "      <td>http://d1.zxcs6.xyz/20/mqz,qs1hao.rar , http:...</td>\n",
       "    </tr>\n",
       "    <tr>\n",
       "      <th>2</th>\n",
       "      <td>《红楼之庶子风流》（校对版全本）作者：屋外风吹凉</td>\n",
       "      <td>[【TXT大小】：5.63, MB, 【内容简介】：, 外科医生贾琮过劳而卒，魂穿荣府。, ...</td>\n",
       "      <td>http://d1.zxcs6.xyz/20/hlzszfl,wwfl.rar , htt...</td>\n",
       "    </tr>\n",
       "    <tr>\n",
       "      <th>3</th>\n",
       "      <td>《宰执天下》（校对版全本）作者：cuslaa</td>\n",
       "      <td>[【TXT大小】：15.0, MB, 【内容简介】：, 宰者宰相，执者执政。, 上辅君王，下...</td>\n",
       "      <td>http://d1.zxcs6.xyz/20/zzx,cuslaa.rar , http:...</td>\n",
       "    </tr>\n",
       "    <tr>\n",
       "      <th>4</th>\n",
       "      <td>《崇祯聊天群》（校对版全本）作者：叫天</td>\n",
       "      <td>[【TXT大小】：6.89, MB, 【内容简介】：, 崇祯皇帝被忽悠上吊丢江山，但是，这本...</td>\n",
       "      <td>http://d1.zxcs6.xyz/20/czltq,jt.rar , http://...</td>\n",
       "    </tr>\n",
       "  </tbody>\n",
       "</table>\n",
       "</div>"
      ],
      "text/plain": [
       "                       name  \\\n",
       "0       《天下豪商》（校对版全本）作者：大罗罗   \n",
       "1       《马前卒》（校对版全本）作者：枪手1号   \n",
       "2  《红楼之庶子风流》（校对版全本）作者：屋外风吹凉   \n",
       "3    《宰执天下》（校对版全本）作者：cuslaa   \n",
       "4       《崇祯聊天群》（校对版全本）作者：叫天   \n",
       "\n",
       "                                        introduction  \\\n",
       "0  [【TXT大小】：9.28, MB, 【内容简介】：, 大宋元符年间，画师武浩来到了繁华似锦...   \n",
       "1  [【TXT大小】：12.9, MB, 【内容简介】：, 不停地战斗，不停的杀敌，秦风是国家的...   \n",
       "2  [【TXT大小】：5.63, MB, 【内容简介】：, 外科医生贾琮过劳而卒，魂穿荣府。, ...   \n",
       "3  [【TXT大小】：15.0, MB, 【内容简介】：, 宰者宰相，执者执政。, 上辅君王，下...   \n",
       "4  [【TXT大小】：6.89, MB, 【内容简介】：, 崇祯皇帝被忽悠上吊丢江山，但是，这本...   \n",
       "\n",
       "                                       download_link  \n",
       "0   http://d1.zxcs6.xyz/20/txhs,dl.rar , http://d...  \n",
       "1   http://d1.zxcs6.xyz/20/mqz,qs1hao.rar , http:...  \n",
       "2   http://d1.zxcs6.xyz/20/hlzszfl,wwfl.rar , htt...  \n",
       "3   http://d1.zxcs6.xyz/20/zzx,cuslaa.rar , http:...  \n",
       "4   http://d1.zxcs6.xyz/20/czltq,jt.rar , http://...  "
      ]
     },
     "execution_count": 37,
     "metadata": {},
     "output_type": "execute_result"
    }
   ],
   "source": [
    "import pandas as pd\n",
    "pd.DataFrame(all_data)[['name', 'introduction', 'download_link']].head()"
   ]
  },
  {
   "cell_type": "code",
   "execution_count": null,
   "metadata": {},
   "outputs": [],
   "source": []
  }
 ],
 "metadata": {
  "kernelspec": {
   "display_name": "Python 3",
   "language": "python",
   "name": "python3"
  },
  "language_info": {
   "codemirror_mode": {
    "name": "ipython",
    "version": 3
   },
   "file_extension": ".py",
   "mimetype": "text/x-python",
   "name": "python",
   "nbconvert_exporter": "python",
   "pygments_lexer": "ipython3",
   "version": "3.6.5"
  }
 },
 "nbformat": 4,
 "nbformat_minor": 2
}
